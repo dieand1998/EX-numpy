{
 "cells": [
  {
   "cell_type": "code",
   "execution_count": null,
   "id": "d18620ac",
   "metadata": {},
   "outputs": [],
   "source": [
    "import numpy as np\n",
    "\n",
    "\n",
    "def ols_estimation(X: np.ndarray, y:np.ndarray): \n",
    "    beta_hat = np.zeros((X.shape[1]+1, 1))\n",
    "    return beta_hat\n",
    "\n",
    "# Carga de datos para una regresión\n",
    "admission = np.load(\"admission.npy\")\n",
    "X = admission[:, :-1]\n",
    "y = admission[:, -1][:, None]\n",
    "X.shape, y.shape"
   ]
  },
  {
   "cell_type": "code",
   "execution_count": null,
   "id": "d559d256",
   "metadata": {},
   "outputs": [],
   "source": [
    "betahat = ols_estimation(X, y)\n",
    "betahat\n"
   ]
  },
  {
   "cell_type": "code",
   "execution_count": null,
   "id": "5db0e62c",
   "metadata": {},
   "outputs": [],
   "source": []
  }
 ],
 "metadata": {
  "kernelspec": {
   "display_name": "base",
   "language": "python",
   "name": "python3"
  },
  "language_info": {
   "codemirror_mode": {
    "name": "ipython",
    "version": 3
   },
   "file_extension": ".py",
   "mimetype": "text/x-python",
   "name": "python",
   "nbconvert_exporter": "python",
   "pygments_lexer": "ipython3",
   "version": "3.13.5"
  }
 },
 "nbformat": 4,
 "nbformat_minor": 5
}
